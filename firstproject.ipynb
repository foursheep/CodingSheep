{
 "cells": [
  {
   "cell_type": "markdown",
   "metadata": {},
   "source": [
    "첫번째 파일\n",
    "---\n",
    "\n",
    "할 일  \n",
    "- python 설치  \n",
    "- 블로그 만들어보기\n",
    "- 주제 정하기"
   ]
  },
  {
   "cell_type": "markdown",
   "metadata": {},
   "source": [
    "Python에서 글자를 적어보자.\n",
    "---\n",
    "print 함수를 사용  \n",
    "적고싶은 글자는 작은따옴표 안에 넣자 ''  \n",
    "\n",
    "\n",
    "__↓↓↓예시↓↓↓__\n",
    "```python\n",
    "print('글자')\n",
    "\n",
    "```"
   ]
  },
  {
   "cell_type": "code",
   "execution_count": 1,
   "metadata": {},
   "outputs": [
    {
     "name": "stdout",
     "output_type": "stream",
     "text": [
      "Welcome to my space!\n"
     ]
    }
   ],
   "source": [
    "print('Welcome to my space!')"
   ]
  },
  {
   "cell_type": "code",
   "execution_count": 1,
   "metadata": {},
   "outputs": [
    {
     "name": "stdout",
     "output_type": "stream",
     "text": [
      "수정을 해봤습니다.\n",
      "다시 main에 push!!!\n"
     ]
    }
   ],
   "source": [
    "print('수정을 해봤습니다.')\n",
    "print('다시 main에 push!!!')"
   ]
  },
  {
   "cell_type": "code",
   "execution_count": null,
   "metadata": {},
   "outputs": [],
   "source": []
  }
 ],
 "metadata": {
  "kernelspec": {
   "display_name": "Python 3",
   "language": "python",
   "name": "python3"
  },
  "language_info": {
   "codemirror_mode": {
    "name": "ipython",
    "version": 3
   },
   "file_extension": ".py",
   "mimetype": "text/x-python",
   "name": "python",
   "nbconvert_exporter": "python",
   "pygments_lexer": "ipython3",
   "version": "3.11.4"
  }
 },
 "nbformat": 4,
 "nbformat_minor": 2
}